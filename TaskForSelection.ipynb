{
 "cells": [
  {
   "cell_type": "markdown",
   "id": "7e8686e4-b2f3-41d6-abcd-9ce8f0ed68c5",
   "metadata": {},
   "source": [
    "# Project Overview\n",
    "## Purpose\n",
    "\n",
    "This Python script processes property data from a JSON file to complete two main tasks:\n",
    "\n",
    "1.Identify Nullable Fields: Detect all the fields that can have null values and count the occurrences of null values.\n",
    "2.Identify 'Lake View' Properties: Use regular expressions to identify properties with mentions of \"lake view\" in specific fields (PublicRemarks, WaterfrontFeatures[], and View[]).\n",
    "\n",
    "## Objective\n",
    "The objective of this script is to process a JSON file containing property data and extract useful insights based on the tasks provided. This includes counting null values for each field and checking whether any property has a lake view.\n",
    "\n"
   ]
  },
  {
   "cell_type": "markdown",
   "id": "2afff49b-fbd8-451f-973f-1ed3c5bff8eb",
   "metadata": {},
   "source": [
    "# Code"
   ]
  },
  {
   "cell_type": "code",
   "execution_count": 68,
   "id": "6e4597c3-339d-43e5-b612-7d613bf1933b",
   "metadata": {},
   "outputs": [],
   "source": [
    "#importing the required libraries\n",
    "import pandas as pd\n",
    "import re"
   ]
  },
  {
   "cell_type": "code",
   "execution_count": 70,
   "id": "116c7f98-ca59-4fca-a03a-3721768ac712",
   "metadata": {},
   "outputs": [],
   "source": [
    "#Load data from the JSON file\n",
    "df = pd.read_json(r'C:\\Users\\monusha s\\OneDrive\\Desktop\\listhub_incremental_202409241307.json', lines = True) "
   ]
  },
  {
   "cell_type": "code",
   "execution_count": 71,
   "id": "16098ad4-8ad5-4179-ae2c-dab3a9608607",
   "metadata": {},
   "outputs": [
    {
     "name": "stdout",
     "output_type": "stream",
     "text": [
      "Nullable Fields and Null Count:\n",
      "@odata.id                         0\n",
      "AccessibilityFeatures             0\n",
      "AccessibleElevatorInstalled    3855\n",
      "Appliances                        0\n",
      "ArchitecturalStyle                0\n",
      "                               ... \n",
      "WaterfrontFeatures                0\n",
      "WaterfrontYN                      0\n",
      "WindowFeatures                    0\n",
      "YearBuilt                       290\n",
      "YearBuiltEffective             3855\n",
      "Length: 111, dtype: int64\n"
     ]
    }
   ],
   "source": [
    "# 1. Identify Nullable Fields (Count of null values in each column)\n",
    "nullable_fields = df.isnull().sum()\n",
    "print(\"Nullable Fields and Null Count:\")\n",
    "print(nullable_fields)"
   ]
  },
  {
   "cell_type": "code",
   "execution_count": 72,
   "id": "0381dea1-46c3-4b6a-9b80-3084681d4aa8",
   "metadata": {},
   "outputs": [],
   "source": [
    "# 2. Identify 'Lake View' Properties:\n",
    "lake_view_pattern = re.compile(r'lake\\s?view', re.IGNORECASE)  # Regex pattern for \"lake view\"\n",
    "# Initialize an empty list to store the results\n",
    "lake_view_results = []"
   ]
  },
  {
   "cell_type": "code",
   "execution_count": 76,
   "id": "58e749d8-0548-4dc0-a79c-91cd13480354",
   "metadata": {},
   "outputs": [],
   "source": [
    "# Loop through each row and check the relevant fields for \"lake view\"\n",
    "for _, row in df.iterrows():\n",
    "    found_lake_view = False\n",
    "    \n",
    "    # Check 'PublicRemarks' field (string)\n",
    "    if isinstance(row['PublicRemarks'], str) and lake_view_pattern.search(row['PublicRemarks']):\n",
    "        found_lake_view = True\n",
    "    \n",
    "    # Check 'WaterfrontFeatures' field (list of strings)\n",
    "    elif isinstance(row['WaterfrontFeatures'], list):\n",
    "        for item in row['WaterfrontFeatures']:\n",
    "            if isinstance(item, str) and lake_view_pattern.search(item):\n",
    "                found_lake_view = True\n",
    "                break  # Stop once found\n",
    "    \n",
    "    # Check 'View' field (list of strings)\n",
    "    elif isinstance(row['View'], list):\n",
    "        for item in row['View']:\n",
    "            if isinstance(item, str) and lake_view_pattern.search(item):\n",
    "                found_lake_view = True\n",
    "                break  # Stop once found\n",
    "    \n",
    "    # Append the result for the current row\n",
    "    lake_view_results.append(found_lake_view)"
   ]
  },
  {
   "cell_type": "code",
   "execution_count": 78,
   "id": "b55814bf-b67a-4de7-8565-be9d477f3ef7",
   "metadata": {},
   "outputs": [
    {
     "name": "stdout",
     "output_type": "stream",
     "text": [
      "\n",
      "Properties with 'Lake View':\n",
      "      LakeView\n",
      "0        False\n",
      "1        False\n",
      "2        False\n",
      "3        False\n",
      "4        False\n",
      "...        ...\n",
      "3850     False\n",
      "3851     False\n",
      "3852     False\n",
      "3853     False\n",
      "3854     False\n",
      "\n",
      "[3855 rows x 1 columns]\n"
     ]
    }
   ],
   "source": [
    "# Add the results as a new column to the DataFrame\n",
    "df['LakeView'] = lake_view_results\n",
    "\n",
    "# Print out the properties with Lake View\n",
    "print(\"\\nProperties with 'Lake View':\")\n",
    "print(df[['LakeView']])"
   ]
  },
  {
   "cell_type": "code",
   "execution_count": 80,
   "id": "3cfe7687-2a48-46cb-bc80-419e15841a7c",
   "metadata": {},
   "outputs": [
    {
     "name": "stdout",
     "output_type": "stream",
     "text": [
      "23      True\n",
      "46      True\n",
      "77      True\n",
      "82      True\n",
      "98      True\n",
      "        ... \n",
      "3784    True\n",
      "3813    True\n",
      "3833    True\n",
      "3834    True\n",
      "3847    True\n",
      "Name: LakeView, Length: 115, dtype: bool\n"
     ]
    }
   ],
   "source": [
    "# Display only the 'LakeView' column with True values\n",
    "print(df[df['LakeView'] == True]['LakeView'])"
   ]
  },
  {
   "cell_type": "code",
   "execution_count": 82,
   "id": "fe7bee52-0eed-41b1-ae84-ccce84840024",
   "metadata": {},
   "outputs": [
    {
     "name": "stdout",
     "output_type": "stream",
     "text": [
      "0       False\n",
      "1       False\n",
      "2       False\n",
      "3       False\n",
      "4       False\n",
      "        ...  \n",
      "3850    False\n",
      "3851    False\n",
      "3852    False\n",
      "3853    False\n",
      "3854    False\n",
      "Name: LakeView, Length: 3740, dtype: bool\n"
     ]
    }
   ],
   "source": [
    "# Display only the 'LakeView' column with False values\n",
    "print(df[df['LakeView'] == False]['LakeView'])"
   ]
  },
  {
   "cell_type": "code",
   "execution_count": 88,
   "id": "20c36cbc-0b8f-4429-a7fa-748d6cd121fc",
   "metadata": {},
   "outputs": [
    {
     "name": "stdout",
     "output_type": "stream",
     "text": [
      "Number of properties with lake view: 115\n"
     ]
    }
   ],
   "source": [
    "# Count the number of True values in the 'LakeView' column\n",
    "lake_view_count = df['LakeView'].sum()\n",
    "\n",
    "# Display the count\n",
    "print(\"Number of properties with lake view:\", lake_view_count)"
   ]
  },
  {
   "cell_type": "markdown",
   "id": "2dca8266-a508-41fd-9f46-1541251cab96",
   "metadata": {},
   "source": [
    "# Results:\n",
    "Nullable Fields:\n",
    "Total number of nullable fields and their respective counts.\n",
    "\n",
    "Lake View Properties:\n",
    "Number of properties identified with a lake view."
   ]
  },
  {
   "cell_type": "markdown",
   "id": "7ea37d58-c178-49e2-a3cc-5e8fb3f26b86",
   "metadata": {},
   "source": [
    "# Conclusion:\n",
    "The task was successfully completed by identifying nullable fields and properties with lake views using pandas and regular expressions. The analysis provided valuable insights into the dataset."
   ]
  }
 ],
 "metadata": {
  "kernelspec": {
   "display_name": "Python 3 (ipykernel)",
   "language": "python",
   "name": "python3"
  },
  "language_info": {
   "codemirror_mode": {
    "name": "ipython",
    "version": 3
   },
   "file_extension": ".py",
   "mimetype": "text/x-python",
   "name": "python",
   "nbconvert_exporter": "python",
   "pygments_lexer": "ipython3",
   "version": "3.12.7"
  }
 },
 "nbformat": 4,
 "nbformat_minor": 5
}
